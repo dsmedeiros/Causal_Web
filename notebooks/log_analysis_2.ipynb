{
 "cells": [
  {
   "cell_type": "code",
   "execution_count": null,
   "id": "bfc27b0a-fec8-4b7a-b043-a32eb4996705",
   "metadata": {},
   "outputs": [
    {
     "name": "stdout",
     "output_type": "stream",
     "text": [
      "Libraries imported successfully.\n",
      "✅ Successfully loaded node_state_log.json with 203 records.\n",
      "✅ Successfully loaded structural_growth_log.json with 32 records.\n",
      "✅ Successfully loaded node_emergence_log.json with 32 records.\n",
      "✅ Successfully loaded collapse_chain_log.json with 0 records.\n",
      "✅ Successfully loaded law_wave_log.json with 955 records.\n"
     ]
    },
    {
     "data": {
      "application/vnd.plotly.v1+json": {
       "config": {
        "plotlyServerURL": "https://plot.ly"
       },
       "data": [
        {
         "hovertemplate": "Tick=%{x}<br>Count of Unique Frequencies=%{y}<extra></extra>",
         "legendgroup": "",
         "line": {
          "color": "#636efa",
          "dash": "solid"
         },
         "marker": {
          "symbol": "circle"
         },
         "mode": "lines",
         "name": "",
         "orientation": "v",
         "showlegend": false,
         "type": "scatter",
         "x": {
          "bdata": "AAABAAIAAwAEAAUABgAHAAgACQAKAAsADAANAA4ADwAQABEAEgATABQAFQAWABcAGAAZABoAGwAcAB0AHgAfACAAIQAiACMAJAAlACYAJwAoACkAKgArACwALQAuAC8AMAAxADIAMwA0ADUANgA3ADgAOQA6ADsAPAA9AD4APwBAAEEAQgBDAEQARQBGAEcASABJAEoASwBMAE0ATgBPAFAAUQBSAFMAVABVAFYAVwBYAFkAWgBbAFwAXQBeAF8AYABhAGIAYwBkAGUAZgBnAGgAaQBqAGsAbABtAG4AbwBwAHEAcgBzAHQAdQB2AHcAeAB5AHoAewB8AH0AfgB/AIAAgQCCAIMAhACFAIYAhwCIAIkAigCLAIwAjQCOAI8AkACRAJIAkwCUAJUAlgCXAJgAmQCaAJsAnACdAJ4AnwCgAKEAogCjAKQApQCmAKcAqACpAKoAqwCsAK0ArgCvALAAsQCyALMAtAC1ALYAtwC4ALkAugC7ALwAvQC+AL8AwADBAMIAwwDEAMUAxgDHAMgAyQDKAA==",
          "dtype": "i2"
         },
         "xaxis": "x",
         "y": {
          "bdata": "AQEBAQEBAQEBAQEBAQEBAQEBAQEBAQEBAQEBAQEBAQEBAQEBAQEBAQEBAQEBAQEBAQEBAQEBAQEBAQEBAQEBAQEBAQEBAQEBAQEBAQEBAQEBAQEBAQEBAQEBAQEBAQEBAQEBAQEBAQEBAQEBAQEBAQEBAQEBAQEBAQEBAQEBAQEBAQEBAQEBAQEBAQEBAQEBAQEBAQEBAQEBAQEBAQEBAQEBAQEBAQEBAQEBAQEBAQEBAQEBAQEBAQEBAQEBAQEBAQEBAQEBAQEBAQE=",
          "dtype": "i1"
         },
         "yaxis": "y"
        }
       ],
       "layout": {
        "legend": {
         "tracegroupgap": 0
        },
        "template": {
         "data": {
          "bar": [
           {
            "error_x": {
             "color": "#2a3f5f"
            },
            "error_y": {
             "color": "#2a3f5f"
            },
            "marker": {
             "line": {
              "color": "#E5ECF6",
              "width": 0.5
             },
             "pattern": {
              "fillmode": "overlay",
              "size": 10,
              "solidity": 0.2
             }
            },
            "type": "bar"
           }
          ],
          "barpolar": [
           {
            "marker": {
             "line": {
              "color": "#E5ECF6",
              "width": 0.5
             },
             "pattern": {
              "fillmode": "overlay",
              "size": 10,
              "solidity": 0.2
             }
            },
            "type": "barpolar"
           }
          ],
          "carpet": [
           {
            "aaxis": {
             "endlinecolor": "#2a3f5f",
             "gridcolor": "white",
             "linecolor": "white",
             "minorgridcolor": "white",
             "startlinecolor": "#2a3f5f"
            },
            "baxis": {
             "endlinecolor": "#2a3f5f",
             "gridcolor": "white",
             "linecolor": "white",
             "minorgridcolor": "white",
             "startlinecolor": "#2a3f5f"
            },
            "type": "carpet"
           }
          ],
          "choropleth": [
           {
            "colorbar": {
             "outlinewidth": 0,
             "ticks": ""
            },
            "type": "choropleth"
           }
          ],
          "contour": [
           {
            "colorbar": {
             "outlinewidth": 0,
             "ticks": ""
            },
            "colorscale": [
             [
              0,
              "#0d0887"
             ],
             [
              0.1111111111111111,
              "#46039f"
             ],
             [
              0.2222222222222222,
              "#7201a8"
             ],
             [
              0.3333333333333333,
              "#9c179e"
             ],
             [
              0.4444444444444444,
              "#bd3786"
             ],
             [
              0.5555555555555556,
              "#d8576b"
             ],
             [
              0.6666666666666666,
              "#ed7953"
             ],
             [
              0.7777777777777778,
              "#fb9f3a"
             ],
             [
              0.8888888888888888,
              "#fdca26"
             ],
             [
              1,
              "#f0f921"
             ]
            ],
            "type": "contour"
           }
          ],
          "contourcarpet": [
           {
            "colorbar": {
             "outlinewidth": 0,
             "ticks": ""
            },
            "type": "contourcarpet"
           }
          ],
          "heatmap": [
           {
            "colorbar": {
             "outlinewidth": 0,
             "ticks": ""
            },
            "colorscale": [
             [
              0,
              "#0d0887"
             ],
             [
              0.1111111111111111,
              "#46039f"
             ],
             [
              0.2222222222222222,
              "#7201a8"
             ],
             [
              0.3333333333333333,
              "#9c179e"
             ],
             [
              0.4444444444444444,
              "#bd3786"
             ],
             [
              0.5555555555555556,
              "#d8576b"
             ],
             [
              0.6666666666666666,
              "#ed7953"
             ],
             [
              0.7777777777777778,
              "#fb9f3a"
             ],
             [
              0.8888888888888888,
              "#fdca26"
             ],
             [
              1,
              "#f0f921"
             ]
            ],
            "type": "heatmap"
           }
          ],
          "histogram": [
           {
            "marker": {
             "pattern": {
              "fillmode": "overlay",
              "size": 10,
              "solidity": 0.2
             }
            },
            "type": "histogram"
           }
          ],
          "histogram2d": [
           {
            "colorbar": {
             "outlinewidth": 0,
             "ticks": ""
            },
            "colorscale": [
             [
              0,
              "#0d0887"
             ],
             [
              0.1111111111111111,
              "#46039f"
             ],
             [
              0.2222222222222222,
              "#7201a8"
             ],
             [
              0.3333333333333333,
              "#9c179e"
             ],
             [
              0.4444444444444444,
              "#bd3786"
             ],
             [
              0.5555555555555556,
              "#d8576b"
             ],
             [
              0.6666666666666666,
              "#ed7953"
             ],
             [
              0.7777777777777778,
              "#fb9f3a"
             ],
             [
              0.8888888888888888,
              "#fdca26"
             ],
             [
              1,
              "#f0f921"
             ]
            ],
            "type": "histogram2d"
           }
          ],
          "histogram2dcontour": [
           {
            "colorbar": {
             "outlinewidth": 0,
             "ticks": ""
            },
            "colorscale": [
             [
              0,
              "#0d0887"
             ],
             [
              0.1111111111111111,
              "#46039f"
             ],
             [
              0.2222222222222222,
              "#7201a8"
             ],
             [
              0.3333333333333333,
              "#9c179e"
             ],
             [
              0.4444444444444444,
              "#bd3786"
             ],
             [
              0.5555555555555556,
              "#d8576b"
             ],
             [
              0.6666666666666666,
              "#ed7953"
             ],
             [
              0.7777777777777778,
              "#fb9f3a"
             ],
             [
              0.8888888888888888,
              "#fdca26"
             ],
             [
              1,
              "#f0f921"
             ]
            ],
            "type": "histogram2dcontour"
           }
          ],
          "mesh3d": [
           {
            "colorbar": {
             "outlinewidth": 0,
             "ticks": ""
            },
            "type": "mesh3d"
           }
          ],
          "parcoords": [
           {
            "line": {
             "colorbar": {
              "outlinewidth": 0,
              "ticks": ""
             }
            },
            "type": "parcoords"
           }
          ],
          "pie": [
           {
            "automargin": true,
            "type": "pie"
           }
          ],
          "scatter": [
           {
            "fillpattern": {
             "fillmode": "overlay",
             "size": 10,
             "solidity": 0.2
            },
            "type": "scatter"
           }
          ],
          "scatter3d": [
           {
            "line": {
             "colorbar": {
              "outlinewidth": 0,
              "ticks": ""
             }
            },
            "marker": {
             "colorbar": {
              "outlinewidth": 0,
              "ticks": ""
             }
            },
            "type": "scatter3d"
           }
          ],
          "scattercarpet": [
           {
            "marker": {
             "colorbar": {
              "outlinewidth": 0,
              "ticks": ""
             }
            },
            "type": "scattercarpet"
           }
          ],
          "scattergeo": [
           {
            "marker": {
             "colorbar": {
              "outlinewidth": 0,
              "ticks": ""
             }
            },
            "type": "scattergeo"
           }
          ],
          "scattergl": [
           {
            "marker": {
             "colorbar": {
              "outlinewidth": 0,
              "ticks": ""
             }
            },
            "type": "scattergl"
           }
          ],
          "scattermap": [
           {
            "marker": {
             "colorbar": {
              "outlinewidth": 0,
              "ticks": ""
             }
            },
            "type": "scattermap"
           }
          ],
          "scattermapbox": [
           {
            "marker": {
             "colorbar": {
              "outlinewidth": 0,
              "ticks": ""
             }
            },
            "type": "scattermapbox"
           }
          ],
          "scatterpolar": [
           {
            "marker": {
             "colorbar": {
              "outlinewidth": 0,
              "ticks": ""
             }
            },
            "type": "scatterpolar"
           }
          ],
          "scatterpolargl": [
           {
            "marker": {
             "colorbar": {
              "outlinewidth": 0,
              "ticks": ""
             }
            },
            "type": "scatterpolargl"
           }
          ],
          "scatterternary": [
           {
            "marker": {
             "colorbar": {
              "outlinewidth": 0,
              "ticks": ""
             }
            },
            "type": "scatterternary"
           }
          ],
          "surface": [
           {
            "colorbar": {
             "outlinewidth": 0,
             "ticks": ""
            },
            "colorscale": [
             [
              0,
              "#0d0887"
             ],
             [
              0.1111111111111111,
              "#46039f"
             ],
             [
              0.2222222222222222,
              "#7201a8"
             ],
             [
              0.3333333333333333,
              "#9c179e"
             ],
             [
              0.4444444444444444,
              "#bd3786"
             ],
             [
              0.5555555555555556,
              "#d8576b"
             ],
             [
              0.6666666666666666,
              "#ed7953"
             ],
             [
              0.7777777777777778,
              "#fb9f3a"
             ],
             [
              0.8888888888888888,
              "#fdca26"
             ],
             [
              1,
              "#f0f921"
             ]
            ],
            "type": "surface"
           }
          ],
          "table": [
           {
            "cells": {
             "fill": {
              "color": "#EBF0F8"
             },
             "line": {
              "color": "white"
             }
            },
            "header": {
             "fill": {
              "color": "#C8D4E3"
             },
             "line": {
              "color": "white"
             }
            },
            "type": "table"
           }
          ]
         },
         "layout": {
          "annotationdefaults": {
           "arrowcolor": "#2a3f5f",
           "arrowhead": 0,
           "arrowwidth": 1
          },
          "autotypenumbers": "strict",
          "coloraxis": {
           "colorbar": {
            "outlinewidth": 0,
            "ticks": ""
           }
          },
          "colorscale": {
           "diverging": [
            [
             0,
             "#8e0152"
            ],
            [
             0.1,
             "#c51b7d"
            ],
            [
             0.2,
             "#de77ae"
            ],
            [
             0.3,
             "#f1b6da"
            ],
            [
             0.4,
             "#fde0ef"
            ],
            [
             0.5,
             "#f7f7f7"
            ],
            [
             0.6,
             "#e6f5d0"
            ],
            [
             0.7,
             "#b8e186"
            ],
            [
             0.8,
             "#7fbc41"
            ],
            [
             0.9,
             "#4d9221"
            ],
            [
             1,
             "#276419"
            ]
           ],
           "sequential": [
            [
             0,
             "#0d0887"
            ],
            [
             0.1111111111111111,
             "#46039f"
            ],
            [
             0.2222222222222222,
             "#7201a8"
            ],
            [
             0.3333333333333333,
             "#9c179e"
            ],
            [
             0.4444444444444444,
             "#bd3786"
            ],
            [
             0.5555555555555556,
             "#d8576b"
            ],
            [
             0.6666666666666666,
             "#ed7953"
            ],
            [
             0.7777777777777778,
             "#fb9f3a"
            ],
            [
             0.8888888888888888,
             "#fdca26"
            ],
            [
             1,
             "#f0f921"
            ]
           ],
           "sequentialminus": [
            [
             0,
             "#0d0887"
            ],
            [
             0.1111111111111111,
             "#46039f"
            ],
            [
             0.2222222222222222,
             "#7201a8"
            ],
            [
             0.3333333333333333,
             "#9c179e"
            ],
            [
             0.4444444444444444,
             "#bd3786"
            ],
            [
             0.5555555555555556,
             "#d8576b"
            ],
            [
             0.6666666666666666,
             "#ed7953"
            ],
            [
             0.7777777777777778,
             "#fb9f3a"
            ],
            [
             0.8888888888888888,
             "#fdca26"
            ],
            [
             1,
             "#f0f921"
            ]
           ]
          },
          "colorway": [
           "#636efa",
           "#EF553B",
           "#00cc96",
           "#ab63fa",
           "#FFA15A",
           "#19d3f3",
           "#FF6692",
           "#B6E880",
           "#FF97FF",
           "#FECB52"
          ],
          "font": {
           "color": "#2a3f5f"
          },
          "geo": {
           "bgcolor": "white",
           "lakecolor": "white",
           "landcolor": "#E5ECF6",
           "showlakes": true,
           "showland": true,
           "subunitcolor": "white"
          },
          "hoverlabel": {
           "align": "left"
          },
          "hovermode": "closest",
          "mapbox": {
           "style": "light"
          },
          "paper_bgcolor": "white",
          "plot_bgcolor": "#E5ECF6",
          "polar": {
           "angularaxis": {
            "gridcolor": "white",
            "linecolor": "white",
            "ticks": ""
           },
           "bgcolor": "#E5ECF6",
           "radialaxis": {
            "gridcolor": "white",
            "linecolor": "white",
            "ticks": ""
           }
          },
          "scene": {
           "xaxis": {
            "backgroundcolor": "#E5ECF6",
            "gridcolor": "white",
            "gridwidth": 2,
            "linecolor": "white",
            "showbackground": true,
            "ticks": "",
            "zerolinecolor": "white"
           },
           "yaxis": {
            "backgroundcolor": "#E5ECF6",
            "gridcolor": "white",
            "gridwidth": 2,
            "linecolor": "white",
            "showbackground": true,
            "ticks": "",
            "zerolinecolor": "white"
           },
           "zaxis": {
            "backgroundcolor": "#E5ECF6",
            "gridcolor": "white",
            "gridwidth": 2,
            "linecolor": "white",
            "showbackground": true,
            "ticks": "",
            "zerolinecolor": "white"
           }
          },
          "shapedefaults": {
           "line": {
            "color": "#2a3f5f"
           }
          },
          "ternary": {
           "aaxis": {
            "gridcolor": "white",
            "linecolor": "white",
            "ticks": ""
           },
           "baxis": {
            "gridcolor": "white",
            "linecolor": "white",
            "ticks": ""
           },
           "bgcolor": "#E5ECF6",
           "caxis": {
            "gridcolor": "white",
            "linecolor": "white",
            "ticks": ""
           }
          },
          "title": {
           "x": 0.05
          },
          "xaxis": {
           "automargin": true,
           "gridcolor": "white",
           "linecolor": "white",
           "ticks": "",
           "title": {
            "standoff": 15
           },
           "zerolinecolor": "white",
           "zerolinewidth": 2
          },
          "yaxis": {
           "automargin": true,
           "gridcolor": "white",
           "linecolor": "white",
           "ticks": "",
           "title": {
            "standoff": 15
           },
           "zerolinecolor": "white",
           "zerolinewidth": 2
          }
         }
        },
        "title": {
         "text": "Law-Wave Speciation: Number of Unique Frequencies Over Time",
         "x": 0.5
        },
        "xaxis": {
         "anchor": "y",
         "domain": [
          0,
          1
         ],
         "title": {
          "text": "Tick"
         }
        },
        "yaxis": {
         "anchor": "x",
         "domain": [
          0,
          1
         ],
         "title": {
          "text": "Count of Unique Frequencies"
         }
        }
       }
      }
     },
     "metadata": {},
     "output_type": "display_data"
    },
    {
     "name": "stdout",
     "output_type": "stream",
     "text": [
      "A downward trend indicates a 'great filter' where few laws become dominant.\n",
      "Skipping Creative Cycle analysis: structural_growth_log lacks required columns.\n",
      "Skipping Classicalization Front: node_state_log is missing one of ['tick', 'node_id', 'pos_x', 'pos_y', 'state'].\n",
      "\n",
      "--- Visualizing lineage for an example node: A_S4_S195 ---\n"
     ]
    },
    {
     "ename": "KeyError",
     "evalue": "'mechanism'",
     "output_type": "error",
     "traceback": [
      "\u001b[1;31m---------------------------------------------------------------------------\u001b[0m",
      "\u001b[1;31mKeyError\u001b[0m                                  Traceback (most recent call last)",
      "File \u001b[1;32mc:\\Users\\Administrator\\AppData\\Local\\Programs\\Python\\Python310\\lib\\site-packages\\pandas\\core\\indexes\\base.py:3805\u001b[0m, in \u001b[0;36mIndex.get_loc\u001b[1;34m(self, key)\u001b[0m\n\u001b[0;32m   3804\u001b[0m \u001b[38;5;28;01mtry\u001b[39;00m:\n\u001b[1;32m-> 3805\u001b[0m     \u001b[38;5;28;01mreturn\u001b[39;00m \u001b[38;5;28;43mself\u001b[39;49m\u001b[38;5;241;43m.\u001b[39;49m\u001b[43m_engine\u001b[49m\u001b[38;5;241;43m.\u001b[39;49m\u001b[43mget_loc\u001b[49m\u001b[43m(\u001b[49m\u001b[43mcasted_key\u001b[49m\u001b[43m)\u001b[49m\n\u001b[0;32m   3806\u001b[0m \u001b[38;5;28;01mexcept\u001b[39;00m \u001b[38;5;167;01mKeyError\u001b[39;00m \u001b[38;5;28;01mas\u001b[39;00m err:\n",
      "File \u001b[1;32mindex.pyx:167\u001b[0m, in \u001b[0;36mpandas._libs.index.IndexEngine.get_loc\u001b[1;34m()\u001b[0m\n",
      "File \u001b[1;32mindex.pyx:196\u001b[0m, in \u001b[0;36mpandas._libs.index.IndexEngine.get_loc\u001b[1;34m()\u001b[0m\n",
      "File \u001b[1;32mpandas\\\\_libs\\\\hashtable_class_helper.pxi:7081\u001b[0m, in \u001b[0;36mpandas._libs.hashtable.PyObjectHashTable.get_item\u001b[1;34m()\u001b[0m\n",
      "File \u001b[1;32mpandas\\\\_libs\\\\hashtable_class_helper.pxi:7089\u001b[0m, in \u001b[0;36mpandas._libs.hashtable.PyObjectHashTable.get_item\u001b[1;34m()\u001b[0m\n",
      "\u001b[1;31mKeyError\u001b[0m: 'mechanism'",
      "\nThe above exception was the direct cause of the following exception:\n",
      "\u001b[1;31mKeyError\u001b[0m                                  Traceback (most recent call last)",
      "Cell \u001b[1;32mIn[1], line 252\u001b[0m\n\u001b[0;32m    250\u001b[0m     last_created_node \u001b[38;5;241m=\u001b[39m emergence_log_df[\u001b[38;5;124m'\u001b[39m\u001b[38;5;124mid\u001b[39m\u001b[38;5;124m'\u001b[39m]\u001b[38;5;241m.\u001b[39miloc[\u001b[38;5;241m-\u001b[39m\u001b[38;5;241m1\u001b[39m]\n\u001b[0;32m    251\u001b[0m     \u001b[38;5;28mprint\u001b[39m(\u001b[38;5;124mf\u001b[39m\u001b[38;5;124m\"\u001b[39m\u001b[38;5;130;01m\\n\u001b[39;00m\u001b[38;5;124m--- Visualizing lineage for an example node: \u001b[39m\u001b[38;5;132;01m{\u001b[39;00mlast_created_node\u001b[38;5;132;01m}\u001b[39;00m\u001b[38;5;124m ---\u001b[39m\u001b[38;5;124m\"\u001b[39m)\n\u001b[1;32m--> 252\u001b[0m     \u001b[43mtrace_and_visualize_lineage\u001b[49m\u001b[43m(\u001b[49m\u001b[43mlast_created_node\u001b[49m\u001b[43m)\u001b[49m\n\u001b[0;32m    253\u001b[0m \u001b[38;5;28;01melse\u001b[39;00m:\n\u001b[0;32m    254\u001b[0m     \u001b[38;5;28mprint\u001b[39m(\u001b[38;5;124m\"\u001b[39m\u001b[38;5;130;01m\\n\u001b[39;00m\u001b[38;5;124mSkipping lineage example: emergence_log.json not found or empty.\u001b[39m\u001b[38;5;124m\"\u001b[39m)\n",
      "Cell \u001b[1;32mIn[1], line 198\u001b[0m, in \u001b[0;36mtrace_and_visualize_lineage\u001b[1;34m(start_node_id)\u001b[0m\n\u001b[0;32m    195\u001b[0m     \u001b[38;5;28;01mcontinue\u001b[39;00m\n\u001b[0;32m    197\u001b[0m event_data \u001b[38;5;241m=\u001b[39m creation_event\u001b[38;5;241m.\u001b[39miloc[\u001b[38;5;241m0\u001b[39m]\n\u001b[1;32m--> 198\u001b[0m G\u001b[38;5;241m.\u001b[39madd_node(current_node_id, label\u001b[38;5;241m=\u001b[39m\u001b[38;5;124mf\u001b[39m\u001b[38;5;124m\"\u001b[39m\u001b[38;5;132;01m{\u001b[39;00mcurrent_node_id\u001b[38;5;132;01m}\u001b[39;00m\u001b[38;5;130;01m\\n\u001b[39;00m\u001b[38;5;124m(\u001b[39m\u001b[38;5;132;01m{\u001b[39;00m\u001b[43mevent_data\u001b[49m\u001b[43m[\u001b[49m\u001b[38;5;124;43m'\u001b[39;49m\u001b[38;5;124;43mmechanism\u001b[39;49m\u001b[38;5;124;43m'\u001b[39;49m\u001b[43m]\u001b[49m\u001b[38;5;132;01m}\u001b[39;00m\u001b[38;5;124m)\u001b[39m\u001b[38;5;124m\"\u001b[39m)\n\u001b[0;32m    200\u001b[0m parents \u001b[38;5;241m=\u001b[39m event_data\u001b[38;5;241m.\u001b[39mget(\u001b[38;5;124m'\u001b[39m\u001b[38;5;124mparents\u001b[39m\u001b[38;5;124m'\u001b[39m, [])\n\u001b[0;32m    201\u001b[0m \u001b[38;5;28;01mif\u001b[39;00m \u001b[38;5;28misinstance\u001b[39m(parents, \u001b[38;5;28mlist\u001b[39m):\n",
      "File \u001b[1;32mc:\\Users\\Administrator\\AppData\\Local\\Programs\\Python\\Python310\\lib\\site-packages\\pandas\\core\\series.py:1121\u001b[0m, in \u001b[0;36mSeries.__getitem__\u001b[1;34m(self, key)\u001b[0m\n\u001b[0;32m   1118\u001b[0m     \u001b[38;5;28;01mreturn\u001b[39;00m \u001b[38;5;28mself\u001b[39m\u001b[38;5;241m.\u001b[39m_values[key]\n\u001b[0;32m   1120\u001b[0m \u001b[38;5;28;01melif\u001b[39;00m key_is_scalar:\n\u001b[1;32m-> 1121\u001b[0m     \u001b[38;5;28;01mreturn\u001b[39;00m \u001b[38;5;28;43mself\u001b[39;49m\u001b[38;5;241;43m.\u001b[39;49m\u001b[43m_get_value\u001b[49m\u001b[43m(\u001b[49m\u001b[43mkey\u001b[49m\u001b[43m)\u001b[49m\n\u001b[0;32m   1123\u001b[0m \u001b[38;5;66;03m# Convert generator to list before going through hashable part\u001b[39;00m\n\u001b[0;32m   1124\u001b[0m \u001b[38;5;66;03m# (We will iterate through the generator there to check for slices)\u001b[39;00m\n\u001b[0;32m   1125\u001b[0m \u001b[38;5;28;01mif\u001b[39;00m is_iterator(key):\n",
      "File \u001b[1;32mc:\\Users\\Administrator\\AppData\\Local\\Programs\\Python\\Python310\\lib\\site-packages\\pandas\\core\\series.py:1237\u001b[0m, in \u001b[0;36mSeries._get_value\u001b[1;34m(self, label, takeable)\u001b[0m\n\u001b[0;32m   1234\u001b[0m     \u001b[38;5;28;01mreturn\u001b[39;00m \u001b[38;5;28mself\u001b[39m\u001b[38;5;241m.\u001b[39m_values[label]\n\u001b[0;32m   1236\u001b[0m \u001b[38;5;66;03m# Similar to Index.get_value, but we do not fall back to positional\u001b[39;00m\n\u001b[1;32m-> 1237\u001b[0m loc \u001b[38;5;241m=\u001b[39m \u001b[38;5;28;43mself\u001b[39;49m\u001b[38;5;241;43m.\u001b[39;49m\u001b[43mindex\u001b[49m\u001b[38;5;241;43m.\u001b[39;49m\u001b[43mget_loc\u001b[49m\u001b[43m(\u001b[49m\u001b[43mlabel\u001b[49m\u001b[43m)\u001b[49m\n\u001b[0;32m   1239\u001b[0m \u001b[38;5;28;01mif\u001b[39;00m is_integer(loc):\n\u001b[0;32m   1240\u001b[0m     \u001b[38;5;28;01mreturn\u001b[39;00m \u001b[38;5;28mself\u001b[39m\u001b[38;5;241m.\u001b[39m_values[loc]\n",
      "File \u001b[1;32mc:\\Users\\Administrator\\AppData\\Local\\Programs\\Python\\Python310\\lib\\site-packages\\pandas\\core\\indexes\\base.py:3812\u001b[0m, in \u001b[0;36mIndex.get_loc\u001b[1;34m(self, key)\u001b[0m\n\u001b[0;32m   3807\u001b[0m     \u001b[38;5;28;01mif\u001b[39;00m \u001b[38;5;28misinstance\u001b[39m(casted_key, \u001b[38;5;28mslice\u001b[39m) \u001b[38;5;129;01mor\u001b[39;00m (\n\u001b[0;32m   3808\u001b[0m         \u001b[38;5;28misinstance\u001b[39m(casted_key, abc\u001b[38;5;241m.\u001b[39mIterable)\n\u001b[0;32m   3809\u001b[0m         \u001b[38;5;129;01mand\u001b[39;00m \u001b[38;5;28many\u001b[39m(\u001b[38;5;28misinstance\u001b[39m(x, \u001b[38;5;28mslice\u001b[39m) \u001b[38;5;28;01mfor\u001b[39;00m x \u001b[38;5;129;01min\u001b[39;00m casted_key)\n\u001b[0;32m   3810\u001b[0m     ):\n\u001b[0;32m   3811\u001b[0m         \u001b[38;5;28;01mraise\u001b[39;00m InvalidIndexError(key)\n\u001b[1;32m-> 3812\u001b[0m     \u001b[38;5;28;01mraise\u001b[39;00m \u001b[38;5;167;01mKeyError\u001b[39;00m(key) \u001b[38;5;28;01mfrom\u001b[39;00m\u001b[38;5;250m \u001b[39m\u001b[38;5;21;01merr\u001b[39;00m\n\u001b[0;32m   3813\u001b[0m \u001b[38;5;28;01mexcept\u001b[39;00m \u001b[38;5;167;01mTypeError\u001b[39;00m:\n\u001b[0;32m   3814\u001b[0m     \u001b[38;5;66;03m# If we have a listlike key, _check_indexing_error will raise\u001b[39;00m\n\u001b[0;32m   3815\u001b[0m     \u001b[38;5;66;03m#  InvalidIndexError. Otherwise we fall through and re-raise\u001b[39;00m\n\u001b[0;32m   3816\u001b[0m     \u001b[38;5;66;03m#  the TypeError.\u001b[39;00m\n\u001b[0;32m   3817\u001b[0m     \u001b[38;5;28mself\u001b[39m\u001b[38;5;241m.\u001b[39m_check_indexing_error(key)\n",
      "\u001b[1;31mKeyError\u001b[0m: 'mechanism'"
     ]
    }
   ],
   "source": [
    "# Causal Web Theory - Master Analysis Notebook (v3 - Final)\n",
    "# This notebook is designed to analyze the output of the CWT simulation,\n",
    "# focusing on the essential analyses required to validate the theory's core hypotheses.\n",
    "# It is tailored to the specific log file schemas provided.\n",
    "\n",
    "# --- NEW CELL ---\n",
    "\n",
    "# ## 1. Setup & Imports\n",
    "# Import all the necessary libraries for data handling, analysis, and visualization.\n",
    "\n",
    "import json\n",
    "from pathlib import Path\n",
    "\n",
    "import networkx as nx\n",
    "import pandas as pd\n",
    "import plotly.express as px\n",
    "import plotly.graph_objects as go\n",
    "from plotly.subplots import make_subplots\n",
    "\n",
    "print(\"Libraries imported successfully.\")\n",
    "\n",
    "# --- NEW CELL ---\n",
    "\n",
    "# ## 2. Configuration & Data Loading\n",
    "# Define the path to your log directory and load all log files into pandas DataFrames.\n",
    "\n",
    "LOG_DIR = Path(\"output\") # Assumes 'output' folder in the same directory as the notebook.\n",
    "\n",
    "def parse_nested_log(log_path: Path) -> pd.DataFrame:\n",
    "    \"\"\"Parses nested JSON logs (like law_wave_log) into a tidy DataFrame.\"\"\"\n",
    "    records = []\n",
    "    with open(log_path, 'r') as f:\n",
    "        for line in f:\n",
    "            try:\n",
    "                data = json.loads(line)\n",
    "                tick_str, nested_data = list(data.items())[0]\n",
    "                tick = int(tick_str)\n",
    "                for key, value in nested_data.items():\n",
    "                    record = {\"tick\": tick, \"id\": key, \"value\": value}\n",
    "                    records.append(record)\n",
    "            except (json.JSONDecodeError, IndexError):\n",
    "                continue\n",
    "    return pd.DataFrame(records)\n",
    "\n",
    "def load_log_file(log_path: Path, is_nested: bool = False) -> pd.DataFrame:\n",
    "    \"\"\"Safely loads a JSON log file into a pandas DataFrame.\"\"\"\n",
    "    if not log_path.exists():\n",
    "        print(f\"⚠️ Warning: Log file not found at {log_path}. Returning empty DataFrame.\")\n",
    "        return pd.DataFrame()\n",
    "    try:\n",
    "        if is_nested:\n",
    "            df = parse_nested_log(log_path)\n",
    "        else:\n",
    "            df = pd.read_json(log_path, lines=True)\n",
    "        print(f\"✅ Successfully loaded {log_path.name} with {len(df)} records.\")\n",
    "        return df\n",
    "    except Exception as e:\n",
    "        print(f\"❌ Error loading {log_path.name}: {e}\")\n",
    "        return pd.DataFrame()\n",
    "\n",
    "# Load all log files based on the defined schemas\n",
    "node_state_df = load_log_file(LOG_DIR / \"node_state_log.json\")\n",
    "structural_growth_df = load_log_file(LOG_DIR / \"structural_growth_log.json\")\n",
    "emergence_log_df = load_log_file(LOG_DIR / \"node_emergence_log.json\")\n",
    "collapse_chain_df = load_log_file(LOG_DIR / \"collapse_chain_log.json\")\n",
    "# Special parser for the nested law_wave_log\n",
    "law_wave_df = load_log_file(LOG_DIR / \"law_wave_log.json\", is_nested=True)\n",
    "if not law_wave_df.empty:\n",
    "    law_wave_df = law_wave_df.rename(columns={'id': 'node_id', 'value': 'frequency'})\n",
    "\n",
    "# --- NEW CELL ---\n",
    "\n",
    "# ## 3. Health Dashboard & Overview 📈\n",
    "# High-level metrics and visualizations for the entire simulation run.\n",
    "\n",
    "if not structural_growth_df.empty:\n",
    "    # --- Node Growth Over Time ---\n",
    "    fig_growth = px.line(\n",
    "        structural_growth_df,\n",
    "        x='tick',\n",
    "        y='node_count',\n",
    "        title='Node Count Growth Over Time'\n",
    "    )\n",
    "    fig_growth.update_layout(title_x=0.5)\n",
    "    fig_growth.show()\n",
    "\n",
    "if not emergence_log_df.empty and 'origin_type' in emergence_log_df.columns:\n",
    "    # --- Propagation Origin Type Ratio ---\n",
    "    propagation_counts = emergence_log_df['origin_type'].value_counts()\n",
    "    fig_pie = px.pie(\n",
    "        values=propagation_counts.values,\n",
    "        names=propagation_counts.index,\n",
    "        title='Propagation Origin Type Ratio'\n",
    "    )\n",
    "    fig_pie.show()\n",
    "\n",
    "# --- NEW CELL ---\n",
    "\n",
    "# ## 4. Essential Analysis 1: Law-Wave Speciation and Dominance 🔬\n",
    "# **Hypothesis:** The simulation should evolve from chaos to a state dominated by a few stable Law-Waves.\n",
    "\n",
    "if not law_wave_df.empty:\n",
    "    active_waves = law_wave_df[law_wave_df['frequency'] > 0.001]\n",
    "    frequency_diversity = active_waves.groupby('tick')['frequency'].nunique().reset_index()\n",
    "\n",
    "    fig_lw = px.line(\n",
    "        frequency_diversity,\n",
    "        x='tick',\n",
    "        y='frequency',\n",
    "        title='Law-Wave Speciation: Number of Unique Frequencies Over Time',\n",
    "        labels={'tick': 'Tick', 'frequency': 'Count of Unique Frequencies'}\n",
    "    )\n",
    "    fig_lw.update_layout(title_x=0.5)\n",
    "    fig_lw.show()\n",
    "    print(\"A downward trend indicates a 'great filter' where few laws become dominant.\")\n",
    "else:\n",
    "    print(\"Skipping Law-Wave analysis: law_wave_log.json not found or empty.\")\n",
    "\n",
    "\n",
    "# --- NEW CELL ---\n",
    "\n",
    "# ## 5. Essential Analysis 2: The Creative Cycle (SIP vs. CSP) 🔄\n",
    "# **Hypothesis:** The interplay between SIP and CSP creates a balanced, self-regulating ecosystem.\n",
    "\n",
    "if not structural_growth_df.empty and 'avg_coherence' in structural_growth_df.columns:\n",
    "    fig_cycle = make_subplots(specs=[[{\"secondary_y\": True}]])\n",
    "    fig_cycle.add_trace(go.Scatter(x=structural_growth_df['tick'], y=structural_growth_df['avg_coherence'], name='Average Coherence', line=dict(color='green')), secondary_y=False)\n",
    "    fig_cycle.add_trace(go.Scatter(x=structural_growth_df['tick'], y=structural_growth_df['sip_success'].cumsum(), name='Cumulative SIP', line=dict(color='royalblue', dash='dash')), secondary_y=True)\n",
    "    fig_cycle.add_trace(go.Scatter(x=structural_growth_df['tick'], y=structural_growth_df['csp_success'].cumsum(), name='Cumulative CSP', line=dict(color='firebrick', dash='dash')), secondary_y=True)\n",
    "\n",
    "    fig_cycle.update_layout(title_text='Creative Cycle: Coherence vs. Propagation Types', title_x=0.5)\n",
    "    fig_cycle.update_xaxes(title_text='Tick')\n",
    "    fig_cycle.update_yaxes(title_text='Average Coherence', secondary_y=False)\n",
    "    fig_cycle.update_yaxes(title_text='Cumulative Node Creations', secondary_y=True)\n",
    "    fig_cycle.show()\n",
    "else:\n",
    "    print(\"Skipping Creative Cycle analysis: structural_growth_log lacks required columns.\")\n",
    "\n",
    "# --- NEW CELL ---\n",
    "\n",
    "# ## 6. Essential Analysis 3: The Classicalization Front 🌍\n",
    "# **Hypothesis:** A visible boundary between quantum-like (coherent) and classical (collapsed) states propagates through the web.\n",
    "\n",
    "if not node_state_df.empty:\n",
    "    required_cols = ['tick', 'node_id', 'pos_x', 'pos_y', 'state']\n",
    "    if all(col in node_state_df.columns for col in required_cols):\n",
    "        fig_front = px.scatter(\n",
    "            node_state_df.sort_values('tick'),\n",
    "            x='pos_x',\n",
    "            y='pos_y',\n",
    "            animation_frame='tick',\n",
    "            animation_group='node_id',\n",
    "            color='state',\n",
    "            hover_name='node_id',\n",
    "            size_max=15,\n",
    "            category_orders={'state': ['coherent', 'strained', 'collapsed']},\n",
    "            color_discrete_map={'coherent': 'blue', 'strained': 'yellow', 'collapsed': 'red'},\n",
    "            title='Animated Classicalization Front'\n",
    "        )\n",
    "        fig_front.update_layout(title_x=0.5)\n",
    "        fig_front.show()\n",
    "    else:\n",
    "        print(f\"Skipping Classicalization Front: node_state_log is missing one of {required_cols}.\")\n",
    "else:\n",
    "    print(\"Skipping Classicalization Front: node_state_log not found or empty.\")\n",
    "\n",
    "\n",
    "# --- NEW CELL ---\n",
    "\n",
    "# ## 7. Essential Analysis 4: Causal Lineage Tracing 🧬\n",
    "# **Hypothesis:** Successful structures descend from other stable structures, demonstrating an evolutionary principle.\n",
    "\n",
    "def trace_and_visualize_lineage(start_node_id: str):\n",
    "    \"\"\"Traces the ancestry of a node and visualizes it as a graph.\"\"\"\n",
    "    if emergence_log_df.empty or 'origin_type' not in emergence_log_df.columns:\n",
    "        print(\"Cannot trace lineage, emergence_log is empty or missing 'origin_type' column.\")\n",
    "        return\n",
    "\n",
    "    G = nx.DiGraph()\n",
    "    nodes_to_process = [start_node_id]\n",
    "    processed_nodes = set()\n",
    "\n",
    "    while nodes_to_process:\n",
    "        current_node_id = nodes_to_process.pop(0)\n",
    "        if current_node_id in processed_nodes:\n",
    "            continue\n",
    "        processed_nodes.add(current_node_id)\n",
    "        \n",
    "        creation_event = emergence_log_df[emergence_log_df['id'] == current_node_id]\n",
    "        if creation_event.empty:\n",
    "            G.add_node(current_node_id, label=f\"{current_node_id}\\n(Primordial)\")\n",
    "            continue\n",
    "\n",
    "        event_data = creation_event.iloc[0]\n",
    "        G.add_node(current_node_id, label=f\"{current_node_id}\\n({event_data['origin_type']})\")\n",
    "        \n",
    "        parents = event_data.get('parents', [])\n",
    "        if isinstance(parents, list):\n",
    "            for parent_id in parents:\n",
    "                G.add_edge(parent_id, current_node_id)\n",
    "                if parent_id not in processed_nodes:\n",
    "                    nodes_to_process.append(parent_id)\n",
    "\n",
    "    if not G.nodes:\n",
    "        print(f\"No lineage information found for node {start_node_id}.\")\n",
    "        return\n",
    "        \n",
    "    pos = nx.spring_layout(G, seed=42)\n",
    "    \n",
    "    edge_x, edge_y = [], []\n",
    "    for edge in G.edges():\n",
    "        x0, y0 = pos[edge[0]]\n",
    "        x1, y1 = pos[edge[1]]\n",
    "        edge_x.extend([x0, x1, None])\n",
    "        edge_y.extend([y0, y1, None])\n",
    "    edge_trace = go.Scatter(x=edge_x, y=edge_y, line=dict(width=1, color='#888'), hoverinfo='none', mode='lines')\n",
    "\n",
    "    node_x = [pos[node][0] for node in G.nodes()]\n",
    "    node_y = [pos[node][1] for node in G.nodes()]\n",
    "    node_labels = [G.nodes[node]['label'] for node in G.nodes()]\n",
    "    \n",
    "    node_trace = go.Scatter(\n",
    "        x=node_x, y=node_y, mode='markers+text', text=node_labels,\n",
    "        textposition='top center', marker=dict(size=20, color='skyblue'),\n",
    "        hoverinfo='text', hovertext=node_labels\n",
    "    )\n",
    "    \n",
    "    fig_lineage = go.Figure(data=[edge_trace, node_trace],\n",
    "                 layout=go.Layout(\n",
    "                    title=f\"Causal Lineage for Node: {start_node_id}\", title_x=0.5,\n",
    "                    showlegend=False, hovermode='closest',\n",
    "                    margin=dict(b=20,l=5,r=5,t=40),\n",
    "                    xaxis=dict(showgrid=False, zeroline=False, showticklabels=False),\n",
    "                    yaxis=dict(showgrid=False, zeroline=False, showticklabels=False))\n",
    "                    )\n",
    "    fig_lineage.show()\n",
    "\n",
    "# --- EXAMPLE USAGE ---\n",
    "if not emergence_log_df.empty:\n",
    "    # Use the 'id' column for the node_id\n",
    "    if 'id' in emergence_log_df.columns:\n",
    "        last_created_node = emergence_log_df['id'].iloc[-1]\n",
    "        print(f\"\\n--- Visualizing lineage for an example node: {last_created_node} ---\")\n",
    "        trace_and_visualize_lineage(last_created_node)\n",
    "    else:\n",
    "        print(\"\\nCould not run lineage example: 'id' column not found in emergence log.\")\n",
    "else:\n",
    "    print(\"\\nSkipping lineage example: emergence_log.json not found or empty.\")"
   ]
  },
  {
   "cell_type": "code",
   "execution_count": null,
   "id": "f5194b84",
   "metadata": {},
   "outputs": [],
   "source": []
  },
  {
   "cell_type": "code",
   "execution_count": null,
   "id": "9e812e7f",
   "metadata": {},
   "outputs": [],
   "source": []
  },
  {
   "cell_type": "code",
   "execution_count": null,
   "id": "0f051974-e8c4-4674-9522-806e1650929e",
   "metadata": {},
   "outputs": [],
   "source": []
  }
 ],
 "metadata": {
  "kernelspec": {
   "display_name": "Python 3",
   "language": "python",
   "name": "python3"
  },
  "language_info": {
   "codemirror_mode": {
    "name": "ipython",
    "version": 3
   },
   "file_extension": ".py",
   "mimetype": "text/x-python",
   "name": "python",
   "nbconvert_exporter": "python",
   "pygments_lexer": "ipython3",
   "version": "3.10.9"
  }
 },
 "nbformat": 4,
 "nbformat_minor": 5
}
